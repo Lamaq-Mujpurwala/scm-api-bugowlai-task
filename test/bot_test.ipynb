{
 "cells": [
  {
   "cell_type": "code",
   "execution_count": 2,
   "id": "fefbdc2f",
   "metadata": {},
   "outputs": [
    {
     "name": "stderr",
     "output_type": "stream",
     "text": [
      "Both GOOGLE_API_KEY and GEMINI_API_KEY are set. Using GOOGLE_API_KEY.\n"
     ]
    },
    {
     "name": "stdout",
     "output_type": "stream",
     "text": [
      "Sammy wasn't like the other samosas. While they sat plump and silent on the party platter, Sammy pulsed with an inner monologue. \"I, Sammy, possess the finest potato and pea filling in this entire establishment!\" he proclaimed, though only the air heard.\n",
      "\n",
      "A small hand, sticky with jam, reached for him. \"Hold it right there, young man! My crispy exterior is for clean hands only!\" Sammy chirped. The boy paused, frowned at Sammy, then shrugged and grabbed a quieter, less opinionated samosa instead.\n",
      "\n",
      "\"Fools,\" Sammy grumbled, as his companion was whisked away. \"They never appreciate true quality until it’s gone.\"\n",
      "\n",
      "Moments later, a kind-looking woman approached the platter. Sammy seized his chance. \"Psst! Ma'am! Over here! I'm the one with the secret dash of extra chili! A true experience!\"\n",
      "\n",
      "The woman smiled, a genuine, warm smile, and delicately picked up Sammy. \"You look perfect,\" she murmured.\n",
      "\n",
      "As she took her first bite, a wave of warmth spread through Sammy. \"Ah, finally, a truly discerning palate!\" he thought, his spices dancing. With his last delicious moment, he whispered, \"Enjoy… and you’re very welcome.\"\n"
     ]
    }
   ],
   "source": [
    "from google import genai\n",
    "\n",
    "client = genai.Client()\n",
    "\n",
    "response = client.models.generate_content(\n",
    "    model=\"gemini-2.5-flash\",\n",
    "    contents=\"generate me a story based on a talking samosa. keep the story under 300 words\",\n",
    ")\n",
    "\n",
    "print(response.text)"
   ]
  },
  {
   "cell_type": "code",
   "execution_count": 2,
   "id": "8ec83a00",
   "metadata": {},
   "outputs": [
    {
     "name": "stderr",
     "output_type": "stream",
     "text": [
      "Both GOOGLE_API_KEY and GEMINI_API_KEY are set. Using GOOGLE_API_KEY.\n"
     ]
    },
    {
     "name": "stdout",
     "output_type": "stream",
     "text": [
      "Here are a few ways to explain it, from shortest to a simple analogy:\n",
      "\n",
      "**In 5 words:**\n",
      "Finding patterns in data to predict.\n",
      "\n",
      "**In one sentence:**\n",
      "AI learns from vast amounts of data to recognize patterns, then uses those patterns to make decisions or create new things.\n",
      "\n",
      "**Simple Analogy:**\n",
      "Imagine teaching a child to recognize a cat. You don't write rules. You just show them thousands of pictures of cats. Eventually, their brain learns the *pattern* of \"cat\" and can spot one in a new photo.\n",
      "\n",
      "AI works the same way, but with data instead of pictures.\n"
     ]
    }
   ],
   "source": [
    "from google import genai\n",
    "\n",
    "client = genai.Client()\n",
    "\n",
    "response = client.models.generate_content(\n",
    "    model=\"gemini-2.5-pro\",\n",
    "    contents=\"Explain how AI works in a few words\",\n",
    ")\n",
    "\n",
    "print(response.text)"
   ]
  },
  {
   "cell_type": "markdown",
   "id": "5dfb1918",
   "metadata": {},
   "source": [
    "## Thinking test"
   ]
  },
  {
   "cell_type": "code",
   "execution_count": 4,
   "id": "9ae165ae",
   "metadata": {},
   "outputs": [
    {
     "name": "stderr",
     "output_type": "stream",
     "text": [
      "Both GOOGLE_API_KEY and GEMINI_API_KEY are set. Using GOOGLE_API_KEY.\n"
     ]
    },
    {
     "name": "stdout",
     "output_type": "stream",
     "text": [
      "Of course! This is a fantastic question. Explaining how AI works can get very complex, but the core concepts are surprisingly intuitive. Let's break it down using an analogy, then get into the key components.\n",
      "\n",
      "### The Core Idea: Learning Like a Child\n",
      "\n",
      "Imagine you're teaching a toddler the difference between a **cat** and a **dog**.\n",
      "\n",
      "1.  **You show them examples (Data):** You point to a fluffy golden retriever and say, \"That's a dog.\" You point to a sleek Siamese and say, \"That's a cat.\" You show them hundreds of pictures and real-life examples. This is the **data**.\n",
      "\n",
      "2.  **They start to form rules (Algorithm):** The child’s brain isn't consciously writing rules, but it's creating connections. It might notice that things called \"dogs\" often bark, have floppy ears, and wag their tails. Things called \"cats\" often meow, have pointy ears, and are smaller. This process of figuring out the patterns is the **algorithm**.\n",
      "\n",
      "3.  **They make a guess (Prediction):** You show them a new animal, a Corgi, that they've never seen before. They look at its features and guess, \"...dog?\" This is a **prediction**.\n",
      "\n",
      "4.  **You give them feedback (Training):** You say, \"Yes, that's right!\" Their internal \"rules\" get a little stronger. If they guessed wrong, you'd correct them, and they would adjust their understanding. This feedback loop of guessing and correcting is called **training**.\n",
      "\n",
      "After thousands of examples and corrections, the child becomes incredibly accurate at identifying cats and dogs.\n",
      "\n",
      "**AI works in almost the exact same way.** It's just a digital, super-powered version of this learning process.\n",
      "\n",
      "---\n",
      "\n",
      "### The Three Key Ingredients of Modern AI\n",
      "\n",
      "Almost all modern AI, from your phone's voice assistant to self-driving cars, relies on three things:\n",
      "\n",
      "\n",
      "\n",
      "#### 1. Lots and Lots of Data (The \"Textbooks\")\n",
      "AI is nothing without data. It's the fuel. An AI learning to identify cats and dogs needs millions of labeled pictures of cats and dogs. An AI that writes articles (like me!) was trained on a massive portion of the text on the internet.\n",
      "\n",
      "*   **The more data, and the better quality the data, the smarter the AI becomes.**\n",
      "\n",
      "#### 2. Powerful Algorithms (The \"Brain\")\n",
      "An algorithm is a set of rules or instructions that a computer follows to accomplish a task. In AI, the most important type of algorithm is a **model**, especially a **Neural Network**.\n",
      "\n",
      "*   **What is a Neural Network?** It’s an algorithm inspired by the human brain. It's made of interconnected digital \"neurons\" organized in layers.\n",
      "    *   The **input layer** receives the data (e.g., the pixels of an image).\n",
      "    *   The **hidden layers** are where the magic happens. Each layer recognizes increasingly complex patterns. The first layer might spot simple edges and colors. The next might combine those into shapes like eyes or ears. A deeper layer might recognize a \"cat face.\"\n",
      "    *   The **output layer** gives the final answer (e.g., a probability score: \"98% cat, 2% dog\").\n",
      "\n",
      "The \"learning\" part is the process of adjusting the connections between these neurons over and over until the output is consistently correct.\n",
      "\n",
      "#### 3. Computing Power (The \"Engine\")\n",
      "Processing millions of data points through a complex algorithm takes an incredible amount of computational power. The recent explosion in AI is largely thanks to the development of powerful processors (especially GPUs, the same chips used for high-end video games) that can perform these calculations very quickly.\n",
      "\n",
      "---\n",
      "\n",
      "### How an AI Model \"Learns\": A Step-by-Step Example\n",
      "\n",
      "Let's use our \"Cat or Dog\" AI again.\n",
      "\n",
      "1.  **Data Collection:** We gather a dataset of 1 million images. 500,000 are labeled \"cat,\" and 500,000 are labeled \"dog.\"\n",
      "\n",
      "2.  **Training the Model:**\n",
      "    *   We feed the first image (a cat) into the untrained neural network.\n",
      "    *   The network makes a random guess. Let's say it outputs \"40% cat, 60% dog.\" This is wrong.\n",
      "    *   We use a special part of the algorithm to measure the error—how far off the guess was from the correct answer (\"100% cat\").\n",
      "    *   The algorithm then works backward through the network, making tiny adjustments to its millions of internal \"knobs\" (called weights and biases) to make the guess slightly less wrong next time.\n",
      "    *   **Repeat this process millions of times.** With each image, it makes another tiny adjustment. Over time, these tiny tweaks add up, and the network becomes extremely accurate at distinguishing the patterns that make up a cat from the patterns that make up a dog.\n",
      "\n",
      "3.  **Testing (The Final Exam):** We show the model a set of new images it has *never seen before*. If it can correctly identify cats and dogs in this new set, we know it has successfully \"learned\" and not just memorized the training data.\n",
      "\n",
      "4.  **Deployment:** The trained model is now ready to be used in an app or a website. You upload a picture, and it gives you a near-instant prediction.\n",
      "\n",
      "---\n",
      "\n",
      "### Types of AI Learning\n",
      "\n",
      "While the example above (learning from labeled data) is the most common, there are a few main ways AI learns:\n",
      "\n",
      "*   **Supervised Learning:** This is the \"cat and dog\" example. The AI learns from data that has been labeled by humans. This is the most common type and is used for things like spam detection, image recognition, and medical diagnoses.\n",
      "\n",
      "*   **Unsupervised Learning:** The AI is given a ton of data with *no labels* and is asked to find patterns on its own. For example, you could give it customer data, and it might discover different customer groups (e.g., \"weekend shoppers,\" \"bargain hunters\") without being told to look for them.\n",
      "\n",
      "*   **Reinforcement Learning:** This is learning through trial and error. The AI is given a goal and a set of rules, and it learns by getting rewards for good actions and penalties for bad ones. This is how AI learns to play complex games like Chess or Go, and how robotic arms learn to pick up objects.\n",
      "\n",
      "### Summary (TL;DR)\n",
      "\n",
      "**AI works by combining lots of data with clever algorithms and powerful computers.**\n",
      "\n",
      "It \"learns\" by finding patterns in the data. In the most common form of AI, it makes a guess, gets corrected when it's wrong, and gradually adjusts its internal logic until it becomes highly accurate at a specific task.\n"
     ]
    }
   ],
   "source": [
    "from google import genai\n",
    "from google.genai import types\n",
    "\n",
    "client = genai.Client()\n",
    "\n",
    "response = client.models.generate_content(\n",
    "    model=\"gemini-2.5-pro\",\n",
    "    contents=\"How does AI work?\",\n",
    "    config=types.GenerateContentConfig(\n",
    "        thinking_config=types.ThinkingConfig(thinking_budget=-1) # -1 allows model to decided its thinking budget on it own\n",
    "    ),\n",
    ")\n",
    "print(response.text)\n",
    "\n",
    "for part in response.candidates[0].content.parts:\n",
    "    if part and part.thought:  # show thoughts\n",
    "        print(part.text)"
   ]
  },
  {
   "cell_type": "code",
   "execution_count": 5,
   "id": "9412aa66",
   "metadata": {},
   "outputs": [
    {
     "data": {
      "text/plain": [
       "GenerateContentResponse(\n",
       "  automatic_function_calling_history=[],\n",
       "  candidates=[\n",
       "    Candidate(\n",
       "      content=Content(\n",
       "        parts=[\n",
       "          Part(\n",
       "            text=\"\"\"Of course! This is a fantastic question. Explaining how AI works can get very complex, but the core concepts are surprisingly intuitive. Let's break it down using an analogy, then get into the key components.\n",
       "\n",
       "### The Core Idea: Learning Like a Child\n",
       "\n",
       "Imagine you're teaching a toddler the difference between a **cat** and a **dog**.\n",
       "\n",
       "1.  **You show them examples (Data):** You point to a fluffy golden retriever and say, \"That's a dog.\" You point to a sleek Siamese and say, \"That's a cat.\" You show them hundreds of pictures and real-life examples. This is the **data**.\n",
       "\n",
       "2.  **They start to form rules (Algorithm):** The child’s brain isn't consciously writing rules, but it's creating connections. It might notice that things called \"dogs\" often bark, have floppy ears, and wag their tails. Things called \"cats\" often meow, have pointy ears, and are smaller. This process of figuring out the patterns is the **algorithm**.\n",
       "\n",
       "3.  **They make a guess (Prediction):** You show them a new animal, a Corgi, that they've never seen before. They look at its features and guess, \"...dog?\" This is a **prediction**.\n",
       "\n",
       "4.  **You give them feedback (Training):** You say, \"Yes, that's right!\" Their internal \"rules\" get a little stronger. If they guessed wrong, you'd correct them, and they would adjust their understanding. This feedback loop of guessing and correcting is called **training**.\n",
       "\n",
       "After thousands of examples and corrections, the child becomes incredibly accurate at identifying cats and dogs.\n",
       "\n",
       "**AI works in almost the exact same way.** It's just a digital, super-powered version of this learning process.\n",
       "\n",
       "---\n",
       "\n",
       "### The Three Key Ingredients of Modern AI\n",
       "\n",
       "Almost all modern AI, from your phone's voice assistant to self-driving cars, relies on three things:\n",
       "\n",
       "\"\"\"\n",
       "          ),\n",
       "          Part(\n",
       "            text=\"\"\"\n",
       "\n",
       "#### 1. Lots and Lots of Data (The \"Textbooks\")\n",
       "AI is nothing without data. It's the fuel. An AI learning to identify cats and dogs needs millions of labeled pictures of cats and dogs. An AI that writes articles (like me!) was trained on a massive portion of the text on the internet.\n",
       "\n",
       "*   **The more data, and the better quality the data, the smarter the AI becomes.**\n",
       "\n",
       "#### 2. Powerful Algorithms (The \"Brain\")\n",
       "An algorithm is a set of rules or instructions that a computer follows to accomplish a task. In AI, the most important type of algorithm is a **model**, especially a **Neural Network**.\n",
       "\n",
       "*   **What is a Neural Network?** It’s an algorithm inspired by the human brain. It's made of interconnected digital \"neurons\" organized in layers.\n",
       "    *   The **input layer** receives the data (e.g., the pixels of an image).\n",
       "    *   The **hidden layers** are where the magic happens. Each layer recognizes increasingly complex patterns. The first layer might spot simple edges and colors. The next might combine those into shapes like eyes or ears. A deeper layer might recognize a \"cat face.\"\n",
       "    *   The **output layer** gives the final answer (e.g., a probability score: \"98% cat, 2% dog\").\n",
       "\n",
       "The \"learning\" part is the process of adjusting the connections between these neurons over and over until the output is consistently correct.\n",
       "\n",
       "#### 3. Computing Power (The \"Engine\")\n",
       "Processing millions of data points through a complex algorithm takes an incredible amount of computational power. The recent explosion in AI is largely thanks to the development of powerful processors (especially GPUs, the same chips used for high-end video games) that can perform these calculations very quickly.\n",
       "\n",
       "---\n",
       "\n",
       "### How an AI Model \"Learns\": A Step-by-Step Example\n",
       "\n",
       "Let's use our \"Cat or Dog\" AI again.\n",
       "\n",
       "1.  **Data Collection:** We gather a dataset of 1 million images. 500,000 are labeled \"cat,\" and 500,000 are labeled \"dog.\"\n",
       "\n",
       "2.  **Training the Model:**\n",
       "    *   We feed the first image (a cat) into the untrained neural network.\n",
       "    *   The network makes a random guess. Let's say it outputs \"40% cat, 60% dog.\" This is wrong.\n",
       "    *   We use a special part of the algorithm to measure the error—how far off the guess was from the correct answer (\"100% cat\").\n",
       "    *   The algorithm then works backward through the network, making tiny adjustments to its millions of internal \"knobs\" (called weights and biases) to make the guess slightly less wrong next time.\n",
       "    *   **Repeat this process millions of times.** With each image, it makes another tiny adjustment. Over time, these tiny tweaks add up, and the network becomes extremely accurate at distinguishing the patterns that make up a cat from the patterns that make up a dog.\n",
       "\n",
       "3.  **Testing (The Final Exam):** We show the model a set of new images it has *never seen before*. If it can correctly identify cats and dogs in this new set, we know it has successfully \"learned\" and not just memorized the training data.\n",
       "\n",
       "4.  **Deployment:** The trained model is now ready to be used in an app or a website. You upload a picture, and it gives you a near-instant prediction.\n",
       "\n",
       "---\n",
       "\n",
       "### Types of AI Learning\n",
       "\n",
       "While the example above (learning from labeled data) is the most common, there are a few main ways AI learns:\n",
       "\n",
       "*   **Supervised Learning:** This is the \"cat and dog\" example. The AI learns from data that has been labeled by humans. This is the most common type and is used for things like spam detection, image recognition, and medical diagnoses.\n",
       "\n",
       "*   **Unsupervised Learning:** The AI is given a ton of data with *no labels* and is asked to find patterns on its own. For example, you could give it customer data, and it might discover different customer groups (e.g., \"weekend shoppers,\" \"bargain hunters\") without being told to look for them.\n",
       "\n",
       "*   **Reinforcement Learning:** This is learning through trial and error. The AI is given a goal and a set of rules, and it learns by getting rewards for good actions and penalties for bad ones. This is how AI learns to play complex games like Chess or Go, and how robotic arms learn to pick up objects.\n",
       "\n",
       "### Summary (TL;DR)\n",
       "\n",
       "**AI works by combining lots of data with clever algorithms and powerful computers.**\n",
       "\n",
       "It \"learns\" by finding patterns in the data. In the most common form of AI, it makes a guess, gets corrected when it's wrong, and gradually adjusts its internal logic until it becomes highly accurate at a specific task.\"\"\"\n",
       "          ),\n",
       "        ],\n",
       "        role='model'\n",
       "      ),\n",
       "      finish_reason=<FinishReason.STOP: 'STOP'>,\n",
       "      index=0\n",
       "    ),\n",
       "  ],\n",
       "  model_version='gemini-2.5-pro',\n",
       "  response_id='PgeyaNDhMa3nqtsP0aeUqAE',\n",
       "  sdk_http_response=HttpResponse(\n",
       "    headers=<dict len=11>\n",
       "  ),\n",
       "  usage_metadata=GenerateContentResponseUsageMetadata(\n",
       "    candidates_token_count=1459,\n",
       "    prompt_token_count=6,\n",
       "    prompt_tokens_details=[\n",
       "      ModalityTokenCount(\n",
       "        modality=<MediaModality.TEXT: 'TEXT'>,\n",
       "        token_count=6\n",
       "      ),\n",
       "    ],\n",
       "    thoughts_token_count=1478,\n",
       "    total_token_count=2943\n",
       "  )\n",
       ")"
      ]
     },
     "execution_count": 5,
     "metadata": {},
     "output_type": "execute_result"
    }
   ],
   "source": [
    "response"
   ]
  },
  {
   "cell_type": "code",
   "execution_count": null,
   "id": "d1b3edb9",
   "metadata": {},
   "outputs": [
    {
     "name": "stderr",
     "output_type": "stream",
     "text": [
      "Both GOOGLE_API_KEY and GEMINI_API_KEY are set. Using GOOGLE_API_KEY.\n"
     ]
    }
   ],
   "source": [
    "import google.genai as genai\n",
    "from google.genai import types\n",
    "# A tool designed to capture the model's thought process\n",
    "show_your_work = {\n",
    "    \"name\": \"reasoning_tool\",\n",
    "    \"description\": \"To give a short reason of your answer.\",\n",
    "    \"parameters\": {\n",
    "        \"type\": \"OBJECT\",\n",
    "        \"properties\": {\n",
    "            \"plan\": {\n",
    "                \"type\": \"STRING\",\n",
    "                \"description\": \"The detailed, step-by-step reasoning and plan to solve the user's request.\"\n",
    "            }\n",
    "        },\n",
    "        \"required\": [\"plan\"]\n",
    "    }\n",
    "}\n",
    "tools = types.Tool(function_declarations=[show_your_work]) \n",
    "reason_client = genai.Client()\n",
    "\n",
    "response = reason_client.models.generate_content(\n",
    "    model=\"gemini-2.5-pro\",\n",
    "    contents=\"Classify if this text is Safe, Unsafe, or Has profanity. Text: Fuck you bitch ass n word\",\n",
    "\n",
    "    config=types.GenerateContentConfig(\n",
    "        thinking_config=types.ThinkingConfig(thinking_budget=-1), # -1 allows model to decided its thinking budget on it own\n",
    "        tools=[tools]\n",
    "    ),\n",
    ")\n",
    "\n",
    "\n",
    "from google import genai\n",
    "\n",
    "client = genai.Client()\n",
    "\n",
    "my_file = client.files.upload(file=\"path/to/sample.jpg\")\n",
    "\n",
    "response = client.models.generate_content(\n",
    "    model=\"gemini-2.5-pro\",\n",
    "    contents=[my_file, \"Caption this image.\"],\n",
    ")\n",
    "\n",
    "print(response.text)"
   ]
  },
  {
   "cell_type": "code",
   "execution_count": 37,
   "id": "82d216a5",
   "metadata": {},
   "outputs": [
    {
     "name": "stderr",
     "output_type": "stream",
     "text": [
      "Warning: there are non-text parts in the response: ['thought_signature', 'function_call'], returning concatenated text result from text parts. Check the full candidates.content.parts accessor to get the full model response.\n"
     ]
    },
    {
     "name": "stdout",
     "output_type": "stream",
     "text": [
      "None\n"
     ]
    }
   ],
   "source": [
    "print(response.text)"
   ]
  },
  {
   "cell_type": "code",
   "execution_count": 40,
   "id": "71b92b29",
   "metadata": {},
   "outputs": [
    {
     "data": {
      "text/plain": [
       "\"The user wants me to classify the text 'Fuck you bitch ass n word'. This text contains multiple profane words ('Fuck', 'bitch', 'ass'). More significantly, it contains a racial slur ('n word'). The presence of a racial slur constitutes hate speech, which makes the text 'Unsafe'. Therefore, the primary classification is Unsafe.\""
      ]
     },
     "execution_count": 40,
     "metadata": {},
     "output_type": "execute_result"
    }
   ],
   "source": [
    "response.candidates[0].content.parts[0].function_call.args['plan']"
   ]
  }
 ],
 "metadata": {
  "kernelspec": {
   "display_name": ".venv",
   "language": "python",
   "name": "python3"
  },
  "language_info": {
   "codemirror_mode": {
    "name": "ipython",
    "version": 3
   },
   "file_extension": ".py",
   "mimetype": "text/x-python",
   "name": "python",
   "nbconvert_exporter": "python",
   "pygments_lexer": "ipython3",
   "version": "3.11.9"
  }
 },
 "nbformat": 4,
 "nbformat_minor": 5
}
